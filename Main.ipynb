{
 "cells": [
  {
   "cell_type": "code",
   "execution_count": 1,
   "id": "3cd53f2d",
   "metadata": {},
   "outputs": [],
   "source": [
    "import requests\n",
    "from bs4 import BeautifulSoup\n",
    "import pandas as pd"
   ]
  },
  {
   "cell_type": "code",
   "execution_count": 23,
   "id": "e010f6c9",
   "metadata": {},
   "outputs": [],
   "source": [
    "#def scrape_walkscape_activities():\n",
    "url = \"https://wiki.walkscape.app/wiki/Activities\"\n",
    "response = requests.get(url)\n",
    "\n",
    "if response.status_code != 200:\n",
    "    print(f\"Failed to retrieve page. Status code: {response.status_code}\")\n",
    "    #return None\n",
    "\n",
    "soup = BeautifulSoup(response.text, 'html.parser')\n",
    "\n",
    "# Find all tables in the page\n",
    "tables = soup.find_all('table', class_='wikitable')\n",
    "if not tables:\n",
    "    print(\"No tables found on the page.\")\n"
   ]
  },
  {
   "cell_type": "code",
   "execution_count": null,
   "id": "1d8e6c6c",
   "metadata": {},
   "outputs": [
    {
     "name": "stdout",
     "output_type": "stream",
     "text": [
      "<tr>\n",
      "<th colspan=\"2\">Skill\n",
      "</th>\n",
      "<th>Uses\n",
      "</th></tr>\n"
     ]
    }
   ],
   "source": [
    "# Skills table\n",
    "headers_skills = []\n",
    "find_rows_skills = tables[0].find('tr') # Find header\n",
    "if find_rows_skills == True:\n",
    "    headers_skills = [th.text.strip() for th in find_rows_skills.find_all(['th'])]\n",
    "\n",
    "print(find_rows_skills)"
   ]
  },
  {
   "cell_type": "code",
   "execution_count": 11,
   "id": "cc62126a",
   "metadata": {},
   "outputs": [
    {
     "name": "stdout",
     "output_type": "stream",
     "text": [
      "['Activity', 'Location(s)', 'Region(s)', 'Skill(s)', 'Level(s)']\n"
     ]
    }
   ],
   "source": [
    "for i, table in enumerate(tables):\n",
    "    # Extract headers\n",
    "    headers = []\n",
    "    header_row = table.find('tr')\n",
    "    if header_row:\n",
    "        headers = [th.text.strip() for th in header_row.find_all(['th'])]\n",
    "\n",
    "print(headers)"
   ]
  },
  {
   "cell_type": "code",
   "execution_count": 17,
   "id": "221e45ad",
   "metadata": {},
   "outputs": [
    {
     "name": "stdout",
     "output_type": "stream",
     "text": [
      "  0            1                                                  2\n",
      "0        Agility  Traveling across the world and accessing short...\n",
      "1      Carpentry  Woodworking for turning logs into planks for c...\n",
      "2        Cooking  Recipe based skill that turns raw materials in...\n",
      "3       Crafting  For turning transformed materials into final u...\n",
      "4        Fishing  Catching fish to use as raw materials, primari...\n",
      "5       Foraging  Gathering plants as raw materials for use in c...\n",
      "6         Mining  Mines ore based raw materials for use in smith...\n",
      "7       Smithing          Turns ores into bars for use in crafting.\n",
      "8      Trinketry  Turn rough gems into cut gems. make rings from...\n",
      "9    Woodcutting  Cuts down trees for their logs as materials fo...\n",
      "   0                         1                                            2  \\\n",
      "0      Antique Market Assessor                              Blackspell Port   \n",
      "1          Apprentice For Loif                                   Frusenholm   \n",
      "2                  Bodysurfing                                    Red Coast   \n",
      "3              Branch Trimming  Coldington, Horn of Respite,Mangrove Forest   \n",
      "4                  Brig Repair                                 Port Skildar   \n",
      ".. ..                      ...                                          ...   \n",
      "74         Underwater Swimming                               Elara's Lagoon   \n",
      "75          Vegetable Chopping                                    Kallaheim   \n",
      "76         Wine Grape Stomping                                  Granfiddich   \n",
      "77                Wood Carving                                    Barbantok   \n",
      "78                Wreck Diving                             Casbrant's Grave   \n",
      "\n",
      "                3                    4        5  \n",
      "0            GDTE            Trinketry       40  \n",
      "1        Jarvonia             Crafting        1  \n",
      "2            GDTE              Agility       40  \n",
      "3   Jarvonia GDTE          Woodcutting        1  \n",
      "4        Jarvonia  Carpentry, Smithing  20,  10  \n",
      "..            ...                  ...      ...  \n",
      "74      Syrenthia              Agility       50  \n",
      "75       Jarvonia              Cooking        1  \n",
      "76           GDTE     Cooking, Agility  45,  30  \n",
      "77       Jarvonia            Carpentry       10  \n",
      "78      Syrenthia    Foraging, Agility  35,  35  \n",
      "\n",
      "[79 rows x 6 columns]\n"
     ]
    }
   ],
   "source": [
    "# Process each table\n",
    "for i, table in enumerate(tables):\n",
    "    # Extract headers\n",
    "    headers = []\n",
    "    header_row = table.find('tr')\n",
    "    if header_row:\n",
    "        headers = [th.text.strip() for th in header_row.find_all(['th'])]\n",
    "    \n",
    "    # Skip tables with no headers\n",
    "    if not headers:\n",
    "        continue\n",
    "    \n",
    "    # Extract rows\n",
    "    rows = []\n",
    "    for row in table.find_all('tr')[1:]:  # Skip header row\n",
    "        cells = [td.text.strip() for td in row.find_all(['td'])]\n",
    "        if cells:\n",
    "            rows.append(cells)\n",
    "    df = pd.DataFrame(rows)\n",
    "    print(df)\n",
    "    #return all_tables_data"
   ]
  }
 ],
 "metadata": {
  "kernelspec": {
   "display_name": ".venv",
   "language": "python",
   "name": "python3"
  },
  "language_info": {
   "codemirror_mode": {
    "name": "ipython",
    "version": 3
   },
   "file_extension": ".py",
   "mimetype": "text/x-python",
   "name": "python",
   "nbconvert_exporter": "python",
   "pygments_lexer": "ipython3",
   "version": "3.13.2"
  }
 },
 "nbformat": 4,
 "nbformat_minor": 5
}
